{
 "cells": [
  {
   "cell_type": "code",
   "execution_count": 4,
   "metadata": {},
   "outputs": [],
   "source": [
    "import pandas as pd\n",
    "import folium\n",
    "\n",
    "county_consumption = pd.read_csv('./data/county_consumption.csv')\n",
    "county_consumption['fips'] = county_consumption['fips'].astype(str)\n",
    "\n",
    "folium_map = folium.Map(location=[41.95, -93.5], zoom_start=7)\n",
    "\n",
    "folium_map.choropleth(\n",
    "    geo_data=r'./data/county_geography.json',\n",
    "    data=county_consumption,\n",
    "    columns=['fips', 'county_consumption'],\n",
    "    key_on='feature.id',\n",
    "    fill_color='PuRd',\n",
    "    fill_opacity=0.9,\n",
    "    line_opacity=0.2,\n",
    "    legend_name='Sales (Millions of Liters)',\n",
    ")\n",
    "folium_map.save('./img/county_consumption_choropleth_map.html')"
   ]
  },
  {
   "cell_type": "code",
   "execution_count": null,
   "metadata": {},
   "outputs": [],
   "source": []
  }
 ],
 "metadata": {
  "kernelspec": {
   "display_name": "Python 3",
   "language": "python",
   "name": "python3"
  },
  "language_info": {
   "codemirror_mode": {
    "name": "ipython",
    "version": 3
   },
   "file_extension": ".py",
   "mimetype": "text/x-python",
   "name": "python",
   "nbconvert_exporter": "python",
   "pygments_lexer": "ipython3",
   "version": "3.6.4"
  }
 },
 "nbformat": 4,
 "nbformat_minor": 2
}
